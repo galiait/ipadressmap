{
 "cells": [
  {
   "cell_type": "code",
   "execution_count": 6,
   "id": "813d3b1d-ae80-4777-960a-cf67e8eb661f",
   "metadata": {},
   "outputs": [
    {
     "name": "stdout",
     "output_type": "stream",
     "text": [
      "Requirement already satisfied: pyvis in /home/nemanja/anaconda3/lib/python3.9/site-packages (0.1.9)\n",
      "Requirement already satisfied: networkx>=1.11 in /home/nemanja/anaconda3/lib/python3.9/site-packages (from pyvis) (2.6.3)\n",
      "Requirement already satisfied: jsonpickle>=1.4.1 in /home/nemanja/anaconda3/lib/python3.9/site-packages (from pyvis) (2.0.0)\n",
      "Requirement already satisfied: jinja2>=2.9.6 in /home/nemanja/anaconda3/lib/python3.9/site-packages (from pyvis) (2.11.3)\n",
      "Requirement already satisfied: ipython>=5.3.0 in /home/nemanja/anaconda3/lib/python3.9/site-packages (from pyvis) (7.29.0)\n",
      "Requirement already satisfied: traitlets>=4.2 in /home/nemanja/anaconda3/lib/python3.9/site-packages (from ipython>=5.3.0->pyvis) (5.1.0)\n",
      "Requirement already satisfied: decorator in /home/nemanja/anaconda3/lib/python3.9/site-packages (from ipython>=5.3.0->pyvis) (5.1.0)\n",
      "Requirement already satisfied: pygments in /home/nemanja/anaconda3/lib/python3.9/site-packages (from ipython>=5.3.0->pyvis) (2.10.0)\n",
      "Requirement already satisfied: pickleshare in /home/nemanja/anaconda3/lib/python3.9/site-packages (from ipython>=5.3.0->pyvis) (0.7.5)\n",
      "Requirement already satisfied: matplotlib-inline in /home/nemanja/anaconda3/lib/python3.9/site-packages (from ipython>=5.3.0->pyvis) (0.1.2)\n",
      "Requirement already satisfied: prompt-toolkit!=3.0.0,!=3.0.1,<3.1.0,>=2.0.0 in /home/nemanja/anaconda3/lib/python3.9/site-packages (from ipython>=5.3.0->pyvis) (3.0.20)\n",
      "Requirement already satisfied: setuptools>=18.5 in /home/nemanja/anaconda3/lib/python3.9/site-packages (from ipython>=5.3.0->pyvis) (58.0.4)\n",
      "Requirement already satisfied: pexpect>4.3 in /home/nemanja/anaconda3/lib/python3.9/site-packages (from ipython>=5.3.0->pyvis) (4.8.0)\n",
      "Requirement already satisfied: backcall in /home/nemanja/anaconda3/lib/python3.9/site-packages (from ipython>=5.3.0->pyvis) (0.2.0)\n",
      "Requirement already satisfied: jedi>=0.16 in /home/nemanja/anaconda3/lib/python3.9/site-packages (from ipython>=5.3.0->pyvis) (0.18.0)\n",
      "Requirement already satisfied: parso<0.9.0,>=0.8.0 in /home/nemanja/anaconda3/lib/python3.9/site-packages (from jedi>=0.16->ipython>=5.3.0->pyvis) (0.8.2)\n",
      "Requirement already satisfied: MarkupSafe>=0.23 in /home/nemanja/anaconda3/lib/python3.9/site-packages (from jinja2>=2.9.6->pyvis) (1.1.1)\n",
      "Requirement already satisfied: ptyprocess>=0.5 in /home/nemanja/anaconda3/lib/python3.9/site-packages (from pexpect>4.3->ipython>=5.3.0->pyvis) (0.7.0)\n",
      "Requirement already satisfied: wcwidth in /home/nemanja/anaconda3/lib/python3.9/site-packages (from prompt-toolkit!=3.0.0,!=3.0.1,<3.1.0,>=2.0.0->ipython>=5.3.0->pyvis) (0.2.5)\n"
     ]
    }
   ],
   "source": [
    "!pip install pyvis\n",
    "import pandas as pd\n",
    "import networkx as nx\n",
    "from pyvis.network import Network"
   ]
  },
  {
   "cell_type": "code",
   "execution_count": 9,
   "id": "2a3b3791-d29c-4d5c-9cda-37dfa323b239",
   "metadata": {},
   "outputs": [],
   "source": [
    "from loc import map_network"
   ]
  },
  {
   "cell_type": "code",
   "execution_count": 10,
   "id": "dc998d79-2e9e-46dc-af24-02d44badb714",
   "metadata": {},
   "outputs": [],
   "source": [
    "lis=map_network()"
   ]
  },
  {
   "cell_type": "code",
   "execution_count": 57,
   "id": "35e4946f-d49d-4c5a-8176-0a9bdb1c520d",
   "metadata": {},
   "outputs": [
    {
     "data": {
      "text/plain": [
       "['192.168.1.202',\n",
       " '192.168.1.212',\n",
       " '192.168.1.206',\n",
       " '192.168.1.210',\n",
       " '192.168.1.237',\n",
       " '192.168.1.204',\n",
       " '192.168.1.236']"
      ]
     },
     "execution_count": 57,
     "metadata": {},
     "output_type": "execute_result"
    }
   ],
   "source": [
    "base"
   ]
  },
  {
   "cell_type": "code",
   "execution_count": 48,
   "id": "fe76fdb8-01f9-4fd5-bcf5-0d95e63dd66f",
   "metadata": {},
   "outputs": [],
   "source": [
    "base=['192.168.1.202','192.168.1.212','192.168.1.206','192.168.1.210','192.168.1.237','192.168.1.204','192.168.1.236']"
   ]
  },
  {
   "cell_type": "code",
   "execution_count": 77,
   "id": "1c35b2df-9abd-4a25-9a1b-14f9ec252169",
   "metadata": {},
   "outputs": [],
   "source": [
    "got_net = Network(height='750px', width='100%', bgcolor='#222222', font_color='white')\n",
    "sources = base\n",
    "targets = [lis[0]]*len(base)\n",
    "color = col\n",
    "\n",
    "edge_data = zip(sources, targets, color)\n",
    "\n",
    "for src, dst, cl in edge_data:\n",
    "    #add nodes and edges to the graph\n",
    "    got_net.add_node(src, src, title=src, color=cl)\n",
    "    got_net.add_node(dst, dst, title=dst, color=cl)\n",
    "\n",
    "    got_net.add_edge(src, dst)\n",
    "\n",
    "neighbor_map = got_net.get_adj_list()\n",
    "\n",
    "# add neighbor data to node hover data\n",
    "for node in got_net.nodes:\n",
    "    node['title'] += ' Neighbors:<br>' + '<br>'.join(neighbor_map[node['id']])\n",
    "    node['value'] = len(neighbor_map[node['id']])\n",
    "\n",
    "got_net.show('loc_ip.html')"
   ]
  },
  {
   "cell_type": "code",
   "execution_count": 14,
   "id": "827a3544-26be-4a32-8b37-d505245f6e58",
   "metadata": {},
   "outputs": [
    {
     "data": {
      "text/plain": [
       "'192.168.1.1192.168.1.1192.168.1.1192.168.1.1192.168.1.1192.168.1.1192.168.1.1'"
      ]
     },
     "execution_count": 14,
     "metadata": {},
     "output_type": "execute_result"
    }
   ],
   "source": [
    "len(lis[1:])*lis[0]"
   ]
  },
  {
   "cell_type": "code",
   "execution_count": 41,
   "id": "5132e7b4-5a8d-4c46-a1f4-6dea6c5f38d8",
   "metadata": {},
   "outputs": [
    {
     "data": {
      "text/plain": [
       "['192.168.1.1',\n",
       " '192.168.1.202',\n",
       " '192.168.1.212',\n",
       " '192.168.1.206',\n",
       " '192.168.1.210',\n",
       " '192.168.1.237',\n",
       " '192.168.1.204',\n",
       " '192.168.1.236']"
      ]
     },
     "execution_count": 41,
     "metadata": {},
     "output_type": "execute_result"
    }
   ],
   "source": [
    "base"
   ]
  },
  {
   "cell_type": "code",
   "execution_count": 58,
   "id": "4aaaf554-0315-43ce-bc5b-430522c13825",
   "metadata": {},
   "outputs": [],
   "source": [
    "def check_on(l1,l2):\n",
    "    c=list()\n",
    "    for item in l1:\n",
    "        if item in l2:\n",
    "            c.append('green')\n",
    "        else:\n",
    "            c.append('red')\n",
    "    return c"
   ]
  },
  {
   "cell_type": "code",
   "execution_count": 74,
   "id": "2b85f892-b52d-416d-b688-c307728a73e5",
   "metadata": {},
   "outputs": [],
   "source": [
    "lis=map_network()"
   ]
  },
  {
   "cell_type": "code",
   "execution_count": 75,
   "id": "11308058-98c7-4eef-a2e5-411ba286de8d",
   "metadata": {},
   "outputs": [],
   "source": [
    "col=check_on(base, lis[1:])"
   ]
  },
  {
   "cell_type": "code",
   "execution_count": 76,
   "id": "912e5cb3-429e-4afa-a12b-14ccade6cfe4",
   "metadata": {},
   "outputs": [
    {
     "data": {
      "text/plain": [
       "['green', 'green', 'green', 'green', 'green', 'green', 'red']"
      ]
     },
     "execution_count": 76,
     "metadata": {},
     "output_type": "execute_result"
    }
   ],
   "source": [
    "col"
   ]
  },
  {
   "cell_type": "code",
   "execution_count": 40,
   "id": "fdb57c06-facb-4776-ac57-0eaffad7a1d3",
   "metadata": {},
   "outputs": [
    {
     "data": {
      "text/plain": [
       "8"
      ]
     },
     "execution_count": 40,
     "metadata": {},
     "output_type": "execute_result"
    }
   ],
   "source": [
    "len(col)"
   ]
  },
  {
   "cell_type": "code",
   "execution_count": 52,
   "id": "75def324-b4d1-456a-af26-10679b5ffba4",
   "metadata": {},
   "outputs": [
    {
     "data": {
      "text/plain": [
       "['192.168.1.1',\n",
       " '192.168.1.1',\n",
       " '192.168.1.1',\n",
       " '192.168.1.1',\n",
       " '192.168.1.1',\n",
       " '192.168.1.1',\n",
       " '192.168.1.1']"
      ]
     },
     "execution_count": 52,
     "metadata": {},
     "output_type": "execute_result"
    }
   ],
   "source": [
    "[lis[0]]*len(base)"
   ]
  },
  {
   "cell_type": "code",
   "execution_count": 70,
   "id": "81722eb0-13d2-446c-b44e-1ffa6fecd570",
   "metadata": {},
   "outputs": [
    {
     "data": {
      "text/plain": [
       "['192.168.1.1',\n",
       " '192.168.1.202',\n",
       " '192.168.1.210',\n",
       " '192.168.1.212',\n",
       " '192.168.1.206',\n",
       " '192.168.1.237']"
      ]
     },
     "execution_count": 70,
     "metadata": {},
     "output_type": "execute_result"
    }
   ],
   "source": [
    "lis"
   ]
  },
  {
   "cell_type": "code",
   "execution_count": null,
   "id": "4c0b8d8e-9a20-44ea-8d3e-d09c871da3c1",
   "metadata": {},
   "outputs": [],
   "source": []
  }
 ],
 "metadata": {
  "kernelspec": {
   "display_name": "Python 3 (ipykernel)",
   "language": "python",
   "name": "python3"
  },
  "language_info": {
   "codemirror_mode": {
    "name": "ipython",
    "version": 3
   },
   "file_extension": ".py",
   "mimetype": "text/x-python",
   "name": "python",
   "nbconvert_exporter": "python",
   "pygments_lexer": "ipython3",
   "version": "3.9.7"
  }
 },
 "nbformat": 4,
 "nbformat_minor": 5
}
